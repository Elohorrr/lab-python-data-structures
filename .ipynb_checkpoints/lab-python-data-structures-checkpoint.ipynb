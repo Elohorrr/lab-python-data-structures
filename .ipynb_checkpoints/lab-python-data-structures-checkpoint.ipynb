{
 "cells": [
  {
   "cell_type": "markdown",
   "metadata": {
    "tags": []
   },
   "source": [
    "# Lab | Data Structures "
   ]
  },
  {
   "cell_type": "markdown",
   "metadata": {},
   "source": [
    "## Exercise: Managing Customer Orders\n",
    "\n",
    "As part of a business venture, you are starting an online store that sells various products. To ensure smooth operations, you need to develop a program that manages customer orders and inventory.\n",
    "\n",
    "Follow the steps below to complete the exercise:\n",
    "\n",
    "1. Define a list called `products` that contains the following items: \"t-shirt\", \"mug\", \"hat\", \"book\", \"keychain\".\n",
    "\n",
    "2. Create an empty dictionary called `inventory`.\n",
    "\n",
    "3. Ask the user to input the quantity of each product available in the inventory. Use the product names from the `products` list as keys in the `inventory` dictionary and assign the respective quantities as values.\n",
    "\n",
    "4. Create an empty set called `customer_orders`.\n",
    "\n",
    "5. Ask the user to input the name of three products that a customer wants to order (from those in the products list, meaning three products out of \"t-shirt\", \"mug\", \"hat\", \"book\" or \"keychain\". Add each product name to the `customer_orders` set.\n",
    "\n",
    "6. Print the products in the `customer_orders` set.\n",
    "\n",
    "7. Calculate the following order statistics:\n",
    "   - Total Products Ordered: The total number of products in the `customer_orders` set.\n",
    "   - Percentage of Products Ordered: The percentage of products ordered compared to the total available products.\n",
    "   \n",
    "   Store these statistics in a tuple called `order_status`.\n",
    "\n",
    "8. Print the order statistics using the following format:\n",
    "   ```\n",
    "   Order Statistics:\n",
    "   Total Products Ordered: <total_products_ordered>\n",
    "   Percentage of Products Ordered: <percentage_ordered>% \n",
    "   ```\n",
    "\n",
    "9. Update the inventory by subtracting 1 from the quantity of each product. Modify the `inventory` dictionary accordingly.\n",
    "\n",
    "10. Print the updated inventory, displaying the quantity of each product on separate lines.\n",
    "\n",
    "Solve the exercise by implementing the steps using the Python concepts of lists, dictionaries, sets, and basic input/output operations. "
   ]
  },
  {
   "cell_type": "code",
   "execution_count": 1,
   "metadata": {},
   "outputs": [
    {
     "name": "stdout",
     "output_type": "stream",
     "text": [
      "['t-shirt', 'mug', 'hat', 'book', 'keychain']\n"
     ]
    }
   ],
   "source": [
    "# no 1\n",
    "products = [\"t-shirt\", \"mug\", \"hat\", \"book\", \"keychain\"]\n",
    "print(products)"
   ]
  },
  {
   "cell_type": "code",
   "execution_count": 2,
   "metadata": {
    "tags": []
   },
   "outputs": [
    {
     "name": "stdout",
     "output_type": "stream",
     "text": [
      "{}\n"
     ]
    }
   ],
   "source": [
    "#no 2\n",
    "inventory = {}\n",
    "print(inventory)"
   ]
  },
  {
   "cell_type": "code",
   "execution_count": 3,
   "metadata": {},
   "outputs": [
    {
     "name": "stdin",
     "output_type": "stream",
     "text": [
      "Enter quantity of t-shirt:  6\n",
      "Enter quantity of mug:  4\n",
      "Enter quantity of hat:  9\n",
      "Enter quantity of book:  7\n",
      "Enter quantity of keychain:  \n"
     ]
    },
    {
     "name": "stdout",
     "output_type": "stream",
     "text": [
      "invalid value. please input a numerical value\n"
     ]
    },
    {
     "name": "stdin",
     "output_type": "stream",
     "text": [
      "Enter quantity of keychain:  5\n"
     ]
    },
    {
     "name": "stdout",
     "output_type": "stream",
     "text": [
      "\n",
      "inventory\n",
      "t-shirt: 6\n",
      "mug: 4\n",
      "hat: 9\n",
      "book: 7\n",
      "keychain: 5\n"
     ]
    }
   ],
   "source": [
    "## no 3\n",
    "for product in products:\n",
    "    while True:\n",
    "        try:\n",
    "            quantity = int(input(f\"Enter quantity of {product}: \"))\n",
    "            if quantity < 0:\n",
    "                print(\"Quantity cannot be negative. please input a valid value\")\n",
    "            else:\n",
    "                inventory[product] = quantity\n",
    "                break\n",
    "        except ValueError:\n",
    "            print(\"invalid value. please input a numerical value\")\n",
    "            \n",
    "#displaying the final inventory\n",
    "print(\"\\ninventory\")\n",
    "for item, qty in inventory.items():\n",
    "    print (f\"{item}: {qty}\")\n",
    "\n",
    "                "
   ]
  },
  {
   "cell_type": "code",
   "execution_count": 4,
   "metadata": {},
   "outputs": [],
   "source": [
    "# no 4\n",
    "customer_orders = {}"
   ]
  },
  {
   "cell_type": "code",
   "execution_count": 5,
   "metadata": {},
   "outputs": [
    {
     "name": "stdout",
     "output_type": "stream",
     "text": [
      "['t-shirt', 'mug', 'hat', 'book', 'keychain']\n"
     ]
    }
   ],
   "source": [
    "print(products)"
   ]
  },
  {
   "cell_type": "code",
   "execution_count": 6,
   "metadata": {},
   "outputs": [
    {
     "name": "stdin",
     "output_type": "stream",
     "text": [
      "Enter the name of three items from the inventory ['t-shirt', 'mug', 'hat', 'book', 'keychain']:  mug hat book\n"
     ]
    },
    {
     "name": "stdout",
     "output_type": "stream",
     "text": [
      "{'mug', 'hat', 'book'}\n"
     ]
    }
   ],
   "source": [
    "# 5:\n",
    "name_of_products = input(f\"Enter the name of three items from the inventory {products}: \")\n",
    "number_of_products = len(name_of_products.split())\n",
    "\n",
    "if number_of_products != 3:\n",
    "    if number_of_products < 3:\n",
    "        print(\"More products required\")\n",
    "        # Ask for the missing amount of products\n",
    "    else:\n",
    "        print(\"Too many products\") \n",
    "        # Ask which products to remove\n",
    "else:\n",
    "    customer_orders = set(name_of_products.split())\n",
    "\n",
    "print(customer_orders)\n"
   ]
  },
  {
   "cell_type": "code",
   "execution_count": 7,
   "metadata": {},
   "outputs": [
    {
     "name": "stdout",
     "output_type": "stream",
     "text": [
      "{'mug', 'hat', 'book'}\n"
     ]
    }
   ],
   "source": [
    "#no 7\n",
    "total_products_ordered = customer_orders\n",
    "print(customer_orders)"
   ]
  },
  {
   "cell_type": "code",
   "execution_count": 9,
   "metadata": {},
   "outputs": [
    {
     "name": "stdout",
     "output_type": "stream",
     "text": [
      "total products ordered:3\n"
     ]
    }
   ],
   "source": [
    "customer_orders = {\"hat\", \"mug\", \"book\"}\n",
    "total_products_ordered = len(customer_orders)\n",
    "print(f\"total products ordered:{total_products_ordered}\")\n"
   ]
  },
  {
   "cell_type": "code",
   "execution_count": 3,
   "metadata": {},
   "outputs": [
    {
     "name": "stdout",
     "output_type": "stream",
     "text": [
      "order status: (3, 60.0)\n",
      "total products ordered: 3\n",
      "percentage_ordered: 60.00%\n"
     ]
    }
   ],
   "source": [
    "\n",
    "products = [\"t-shirt\", \"mug\", \"hat\", \"keychain\", \"book\"] #total products available\n",
    "customer_orders = {\"hat\", \"mug\", \"book\"}   #products ordered by customer\n",
    "total_products_ordered = len(customer_orders)\n",
    "\n",
    "#percentage of ordered products\n",
    "total_available_products = len(products)\n",
    "percentage_ordered = (total_products_ordered / total_available_products) * 100\n",
    "\n",
    "#tuple\n",
    "order_status = (total_products_ordered, percentage_ordered)\n",
    "\n",
    "print(f\"order status: {order_status}\")\n",
    "print(f\"total products ordered: {order_status[0]}\")\n",
    "print(f\"percentage_ordered: {order_status[1]:.2f}%\")"
   ]
  },
  {
   "cell_type": "code",
   "execution_count": 9,
   "metadata": {},
   "outputs": [
    {
     "name": "stdout",
     "output_type": "stream",
     "text": [
      "t-shirt: 5\n",
      "mug: 3\n",
      "hat: 8\n",
      "book: 6\n",
      "keychain: 4\n"
     ]
    }
   ],
   "source": [
    "#no 9\n",
    "#update the inventory\n",
    "inventory = {\"t-shirt\":6, \"mug\":4, \"hat\":9, \"book\":7, \"keychain\":5}\n",
    "\n",
    "for product in inventory:\n",
    "    inventory[product] = (inventory[product] -1)\n",
    "    \n",
    "for product,quantity in inventory.items():\n",
    "    print (f\"{product}: {quantity}\")"
   ]
  }
 ],
 "metadata": {
  "kernelspec": {
   "display_name": "Python 3 (ipykernel)",
   "language": "python",
   "name": "python3"
  },
  "language_info": {
   "codemirror_mode": {
    "name": "ipython",
    "version": 3
   },
   "file_extension": ".py",
   "mimetype": "text/x-python",
   "name": "python",
   "nbconvert_exporter": "python",
   "pygments_lexer": "ipython3",
   "version": "3.9.13"
  }
 },
 "nbformat": 4,
 "nbformat_minor": 4
}
